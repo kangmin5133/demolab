{
 "cells": [
  {
   "cell_type": "code",
   "execution_count": 9,
   "metadata": {},
   "outputs": [
    {
     "name": "stdout",
     "output_type": "stream",
     "text": [
      "Image resized to 32 x 32\n",
      "Image resized to 32 x 32\n"
     ]
    },
    {
     "name": "stderr",
     "output_type": "stream",
     "text": [
      "/tmp/ipykernel_8815/3283120321.py:23: DeprecationWarning: ANTIALIAS is deprecated and will be removed in Pillow 10 (2023-07-01). Use Resampling.LANCZOS instead.\n",
      "  resized_image = image.resize((new_width, new_height), Image.ANTIALIAS)\n"
     ]
    }
   ],
   "source": [
    "from PIL import Image\n",
    "import cv2\n",
    "\n",
    "def print_image_size(image_path):\n",
    "    image = Image.open(image_path)\n",
    "    width, height = image.size\n",
    "    print(f\"Image size: {width} x {height}\")\n",
    "\n",
    "\n",
    "\n",
    "def resize_image(image_path, max_size=32):\n",
    "    image = Image.open(image_path)\n",
    "    width, height = image.size\n",
    "\n",
    "    if width > max_size or height > max_size:\n",
    "        if width > height:\n",
    "            new_width = max_size\n",
    "            new_height = int(height * (max_size / width))\n",
    "        else:\n",
    "            new_height = max_size\n",
    "            new_width = int(width * (max_size / height))\n",
    "\n",
    "        resized_image = image.resize((new_width, new_height), Image.ANTIALIAS)\n",
    "        resized_image.save(image_path)\n",
    "        print(f\"Image resized to {new_width} x {new_height}\")\n",
    "    else:\n",
    "        print(\"Image size is already within the limit\")\n",
    "\n",
    "\n",
    "resize_image(\"plus.png\")\n",
    "resize_image(\"minus.png\")"
   ]
  },
  {
   "cell_type": "code",
   "execution_count": 10,
   "metadata": {},
   "outputs": [
    {
     "name": "stdout",
     "output_type": "stream",
     "text": [
      "Image size: 32 x 32\n"
     ]
    }
   ],
   "source": [
    "def print_image_size(image_path):\n",
    "    image = Image.open(image_path)\n",
    "    width, height = image.size\n",
    "    print(f\"Image size: {width} x {height}\")\n",
    "\n",
    "print_image_size(\"plus.png\")"
   ]
  }
 ],
 "metadata": {
  "kernelspec": {
   "display_name": "autolabeling",
   "language": "python",
   "name": "python3"
  },
  "language_info": {
   "codemirror_mode": {
    "name": "ipython",
    "version": 3
   },
   "file_extension": ".py",
   "mimetype": "text/x-python",
   "name": "python",
   "nbconvert_exporter": "python",
   "pygments_lexer": "ipython3",
   "version": "3.8.13"
  },
  "orig_nbformat": 4
 },
 "nbformat": 4,
 "nbformat_minor": 2
}
